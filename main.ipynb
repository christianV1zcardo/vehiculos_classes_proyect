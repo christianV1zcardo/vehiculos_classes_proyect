{
 "cells": [
  {
   "cell_type": "code",
   "execution_count": 1,
   "id": "a0ec68f2",
   "metadata": {},
   "outputs": [],
   "source": [
    "from clases import Vehiculo, Automovil, Motocicleta, Camion, Flota, Conductor"
   ]
  },
  {
   "cell_type": "code",
   "execution_count": 2,
   "id": "1dc38c8f",
   "metadata": {},
   "outputs": [],
   "source": [
    "auto1 = Automovil(\"Toyota\", 'Hilux', 2015, 4)\n",
    "auto2 = Automovil(\"Buick\", 'Elevate', 2014, 4)\n",
    "auto3 = Automovil(\"Ferrari\", 'Sports3', 2020, 2)\n",
    "\n",
    "moto1 = Motocicleta(\"Yamaha\", 'Chevrolet', 2024, False)\n",
    "moto2 = Motocicleta('Nagasaki', 'Sport1', 2025, True)\n",
    "\n",
    "camion1 = Camion('BMW', 'StrongRino', 2001, 7000)\n",
    "\n",
    "vehiculos = [auto1, auto2, auto3, moto1, moto2, camion1]"
   ]
  },
  {
   "cell_type": "code",
   "execution_count": 3,
   "id": "6bf7d5b6",
   "metadata": {},
   "outputs": [
    {
     "name": "stdout",
     "output_type": "stream",
     "text": [
      "<clases.Automovil object at 0x000001919DC78980> asignado correctamente\n",
      "<clases.Automovil object at 0x000001919DA8B610> asignado correctamente\n",
      "<clases.Automovil object at 0x000001919DA8B390> asignado correctamente\n",
      "<clases.Motocicleta object at 0x000001919DC78590> asignado correctamente\n",
      "<clases.Motocicleta object at 0x000001919DA8B250> asignado correctamente\n",
      "<clases.Camion object at 0x000001919DC78AD0> asignado correctamente\n"
     ]
    }
   ],
   "source": [
    "flota = Flota(vehiculos)\n",
    "\n",
    "conductor1 = Conductor()\n",
    "conductor2 = Conductor()\n",
    "conductor3 = Conductor()\n",
    "conductor4 = Conductor()\n",
    "conductor5 = Conductor()\n",
    "conductor6 = Conductor()\n",
    "\n",
    "conductor1.asignar_vehiculo(flota.vehiculos[0])\n",
    "conductor2.asignar_vehiculo(flota.vehiculos[1])\n",
    "conductor3.asignar_vehiculo(flota.vehiculos[2])\n",
    "conductor4.asignar_vehiculo(flota.vehiculos[3])\n",
    "conductor5.asignar_vehiculo(flota.vehiculos[4])\n",
    "conductor6.asignar_vehiculo(flota.vehiculos[5])"
   ]
  },
  {
   "cell_type": "code",
   "execution_count": null,
   "id": "29072a48",
   "metadata": {},
   "outputs": [
    {
     "name": "stdout",
     "output_type": "stream",
     "text": [
      "BBRRRRRMMMM - Vehículo encendido\n",
      "bbbrrrmm\n",
      "Se recorrieron 5 kilómetros\n",
      "BBRRRRRMMMM - Vehículo encendido\n",
      "bbbrrrmm\n",
      "Se recorrieron 2 kilómetros\n",
      "BBRRRRRMMMM - Vehículo encendido\n",
      "bbbrrrmm\n",
      "Se recorrieron 20 kilómetros\n",
      "BBRRRRRMMMM - Vehículo encendido\n",
      "bbbrrrmm\n",
      "Se recorrieron 3 kilómetros\n",
      "BBRRRRRMMMM - Vehículo encendido\n",
      "bbbrrrmm\n",
      "Se recorrieron 40 kilómetros\n",
      "BBRRRRRMMMM - Vehículo encendido\n",
      "bbbbrrrrmmmm - Se acelera normalmente\n",
      "Se recorrieron 3 kilómetros\n",
      "Añadidos 4000 kg de peso\n",
      "BBRRRRRMMMM - Vehículo encendido\n",
      "bbrrmm - Se acelera a medias\n",
      "Se recorrieron 40 kilómetros\n"
     ]
    }
   ],
   "source": [
    "conductor1.conducir(35, 5)\n",
    "conductor2.conducir(20, 2)\n",
    "conductor3.conducir(50, 20)\n",
    "conductor4.conducir(15, 3)\n",
    "conductor5.conducir(70, 40)\n",
    "\n",
    "conductor6.conducir(15, 3)\n",
    "conductor6.frenar(15)\n",
    "conductor6.vehiculo_asignado.cargar(4000)\n",
    "conductor6.conducir(35, 40)"
   ]
  },
  {
   "cell_type": "code",
   "execution_count": 7,
   "id": "777c3235",
   "metadata": {},
   "outputs": [
    {
     "name": "stdout",
     "output_type": "stream",
     "text": [
      "Se han creado 6 vehículos\n",
      "6\n",
      "3\n",
      "2\n",
      "1\n",
      "Vehículo: Automovil\n",
      "- Marca: Toyota\n",
      "- Modelo: Hilux\n",
      "- Año: 2015\n",
      "- Asignado: True\n",
      "- Encendido: True\n",
      "- Kilometraje: 10\n",
      "- Velocidad Actual: 70.0\n",
      "- Número de Puertas: 4\n",
      "------------------------------\n",
      "Vehículo: Automovil\n",
      "- Marca: Buick\n",
      "- Modelo: Elevate\n",
      "- Año: 2014\n",
      "- Asignado: True\n",
      "- Encendido: True\n",
      "- Kilometraje: 4\n",
      "- Velocidad Actual: 40.0\n",
      "- Número de Puertas: 4\n",
      "------------------------------\n",
      "Vehículo: Automovil\n",
      "- Marca: Ferrari\n",
      "- Modelo: Sports3\n",
      "- Año: 2020\n",
      "- Asignado: True\n",
      "- Encendido: True\n",
      "- Kilometraje: 40\n",
      "- Velocidad Actual: 100.0\n",
      "- Número de Puertas: 2\n",
      "------------------------------\n",
      "Vehículo: Motocicleta\n",
      "- Marca: Yamaha\n",
      "- Modelo: Chevrolet\n",
      "- Año: 2024\n",
      "- Asignado: True\n",
      "- Encendido: True\n",
      "- Kilometraje: 6\n",
      "- Velocidad Actual: 30.0\n",
      "- Es Deportiva: False\n",
      "------------------------------\n",
      "Vehículo: Motocicleta\n",
      "- Marca: Nagasaki\n",
      "- Modelo: Sport1\n",
      "- Año: 2025\n",
      "- Asignado: True\n",
      "- Encendido: True\n",
      "- Kilometraje: 80\n",
      "- Velocidad Actual: 140.0\n",
      "- Es Deportiva: True\n",
      "------------------------------\n",
      "Vehículo: Camion\n",
      "- Marca: BMW\n",
      "- Modelo: StrongRino\n",
      "- Año: 2001\n",
      "- Asignado: True\n",
      "- Encendido: True\n",
      "- Kilometraje: 46\n",
      "- Velocidad Actual: 17.5\n",
      "- Capacidad de carga: 7000\n",
      "- Carga Actual: 4000.0\n",
      "------------------------------\n"
     ]
    }
   ],
   "source": [
    "Vehiculo.mostrar_total_vehiculos_creados()\n",
    "flota.contar_vehiculos()\n",
    "flota.contar_vehiculos('Automovil')\n",
    "flota.contar_vehiculos('Motocicleta')\n",
    "flota.contar_vehiculos('Camion')\n",
    "\n",
    "flota.mostrar_estado_flota()"
   ]
  }
 ],
 "metadata": {
  "kernelspec": {
   "display_name": "venv",
   "language": "python",
   "name": "python3"
  },
  "language_info": {
   "codemirror_mode": {
    "name": "ipython",
    "version": 3
   },
   "file_extension": ".py",
   "mimetype": "text/x-python",
   "name": "python",
   "nbconvert_exporter": "python",
   "pygments_lexer": "ipython3",
   "version": "3.13.3"
  }
 },
 "nbformat": 4,
 "nbformat_minor": 5
}
