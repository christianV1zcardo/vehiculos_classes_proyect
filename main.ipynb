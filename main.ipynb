{
 "cells": [
  {
   "cell_type": "code",
   "execution_count": 67,
   "id": "a0ec68f2",
   "metadata": {},
   "outputs": [
    {
     "data": {
      "text/plain": [
       "<module 'clases' from 'c:\\\\Users\\\\ACER NITRO\\\\Downloads\\\\proyects\\\\vehiculos_classes_proyect\\\\clases.py'>"
      ]
     },
     "execution_count": 67,
     "metadata": {},
     "output_type": "execute_result"
    }
   ],
   "source": [
    "import importlib\n",
    "import clases\n",
    "from clases import Automovil, Motocicleta, Camion\n",
    "\n",
    "importlib.reload(clases)"
   ]
  },
  {
   "cell_type": "code",
   "execution_count": 68,
   "id": "784dc37d",
   "metadata": {},
   "outputs": [
    {
     "name": "stdout",
     "output_type": "stream",
     "text": [
      "BBRRRRRMMMM - Vehículo encendido\n",
      "BBRRRRRMMMM - Vehículo encendido\n",
      "BBRRRRRMMMM - Vehículo encendido\n"
     ]
    }
   ],
   "source": [
    "auto = Automovil('Chevrolet', \"Modelo test\", 2004, 4)\n",
    "moto = Motocicleta('Toyota', 'Nagasaki', 2017, True)\n",
    "camion = Camion('BMW', 'Optimus Prime', 2020, 7000)\n",
    "\n",
    "auto.encender()\n",
    "moto.encender()\n",
    "camion.encender()"
   ]
  },
  {
   "cell_type": "code",
   "execution_count": 69,
   "id": "31e1fa7f",
   "metadata": {},
   "outputs": [
    {
     "name": "stdout",
     "output_type": "stream",
     "text": [
      "bbbrrrmm\n",
      "bbbrrrmm\n",
      "bbbbrrrrmmmm - Se acelera normalmente\n",
      "Añadidos 4000 kg de peso\n",
      "bbrrmm - Se acelera a medias\n"
     ]
    }
   ],
   "source": [
    "auto.acelerar(20)\n",
    "moto.acelerar(35)\n",
    "\n",
    "camion.acelerar(50)\n",
    "camion.cargar(4000)\n",
    "camion.acelerar(50)"
   ]
  },
  {
   "cell_type": "code",
   "execution_count": 70,
   "id": "12848007",
   "metadata": {},
   "outputs": [
    {
     "name": "stdout",
     "output_type": "stream",
     "text": [
      "BEEEEEP BEEEEP\n",
      "*Hace caballito*\n",
      "Se restaron 500 kg de peso\n"
     ]
    }
   ],
   "source": [
    "auto.tocar_bocina()\n",
    "moto.hacer_caballito()\n",
    "camion.descargar(500)"
   ]
  },
  {
   "cell_type": "code",
   "execution_count": 71,
   "id": "427a21e4",
   "metadata": {},
   "outputs": [
    {
     "name": "stdout",
     "output_type": "stream",
     "text": [
      "*Silencio* - Vehículo apagado\n",
      "*Silencio* - Vehículo apagado\n",
      "*Silencio* - Vehículo apagado\n"
     ]
    }
   ],
   "source": [
    "auto.apagar()\n",
    "moto.apagar()\n",
    "camion.apagar()"
   ]
  },
  {
   "cell_type": "code",
   "execution_count": 72,
   "id": "51d312d9",
   "metadata": {},
   "outputs": [
    {
     "name": "stdout",
     "output_type": "stream",
     "text": [
      "No se puede acelerar, vehículo apagado\n"
     ]
    }
   ],
   "source": [
    "auto.acelerar(30)"
   ]
  }
 ],
 "metadata": {
  "kernelspec": {
   "display_name": "venv",
   "language": "python",
   "name": "python3"
  },
  "language_info": {
   "codemirror_mode": {
    "name": "ipython",
    "version": 3
   },
   "file_extension": ".py",
   "mimetype": "text/x-python",
   "name": "python",
   "nbconvert_exporter": "python",
   "pygments_lexer": "ipython3",
   "version": "3.13.3"
  }
 },
 "nbformat": 4,
 "nbformat_minor": 5
}
